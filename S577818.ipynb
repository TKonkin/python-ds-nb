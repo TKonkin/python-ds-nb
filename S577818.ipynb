{
 "cells": [
  {
   "cell_type": "markdown",
   "id": "d63969bd",
   "metadata": {},
   "source": [
    "## Notebook for Project P2, Question 10\n",
    "\n",
    "Terry Konkin"
   ]
  },
  {
   "cell_type": "markdown",
   "id": "527b5736",
   "metadata": {},
   "source": [
    "## Question 10.  \n",
    "Create a new Jupyter Notebook (the name of the notebook should be your S number). Add a markdown cell that contains your name. Add a code cell and write Python that uses loops to draw the following patterns.  \n",
    "\n",
    "```\n",
    "*      *\n",
    "**    **\n",
    "***  ***\n",
    "********\n",
    "```  "
   ]
  },
  {
   "cell_type": "code",
   "execution_count": 2,
   "id": "28a83f90",
   "metadata": {},
   "outputs": [
    {
     "name": "stdout",
     "output_type": "stream",
     "text": [
      "*      *\n",
      "**    **\n",
      "***  ***\n",
      "********\n"
     ]
    }
   ],
   "source": [
    "rows = 4\n",
    "\n",
    "for i in range(1, rows + 1):\n",
    "    left = \"*\" * i\n",
    "    spaces = \" \" * (rows - i) * 2\n",
    "    right = \"*\" * i\n",
    "    print(left + spaces + right)"
   ]
  }
 ],
 "metadata": {
  "kernelspec": {
   "display_name": ".venv",
   "language": "python",
   "name": "python3"
  },
  "language_info": {
   "codemirror_mode": {
    "name": "ipython",
    "version": 3
   },
   "file_extension": ".py",
   "mimetype": "text/x-python",
   "name": "python",
   "nbconvert_exporter": "python",
   "pygments_lexer": "ipython3",
   "version": "3.13.1"
  }
 },
 "nbformat": 4,
 "nbformat_minor": 5
}
